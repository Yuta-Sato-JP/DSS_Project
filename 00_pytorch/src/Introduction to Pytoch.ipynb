{
 "cells": [
  {
   "cell_type": "code",
   "execution_count": 1,
   "id": "c6d57768",
   "metadata": {},
   "outputs": [
    {
     "name": "stdout",
     "output_type": "stream",
     "text": [
      "torch: 1.13.0\n"
     ]
    }
   ],
   "source": [
    "import torch\n",
    "import matplotlib.pyplot as plt\n",
    "\n",
    "from torch import nn\n",
    "from torch.utils.data import DataLoader\n",
    "from torchvision import datasets\n",
    "from torchvision.transforms import ToTensor\n",
    "\n",
    "print(\"torch: {}\".format(torch.__version__))"
   ]
  },
  {
   "cell_type": "markdown",
   "id": "43a11292",
   "metadata": {},
   "source": [
    "### Import a preset dataset \"FashionMNIST\""
   ]
  },
  {
   "cell_type": "markdown",
   "id": "ea6757e4",
   "metadata": {},
   "source": [
    "Yuta's comment:\n",
    "It is important to understand the data structure of which PyTorch is going to handle.\n",
    "As a first step, let's use the preset dataset called \"FashionMNIST\". (Fashion image version of MNIST) Please note that we usually need to create our own **torch.utils.data.Dataset** class by ourselves, and eventually **torch.utils.data.DataLoader** with parameter of batch size, sampling method, and so on. More Info [here.](https://pytorch.org/tutorials/beginner/basics/data_tutorial.html)"
   ]
  },
  {
   "cell_type": "code",
   "execution_count": 2,
   "id": "9877b5b4",
   "metadata": {},
   "outputs": [],
   "source": [
    "# Download training data from open datasets.\n",
    "training_data = datasets.FashionMNIST(\n",
    "    root=\"../data\",\n",
    "    train=True,\n",
    "    download=True,\n",
    "    transform=ToTensor(),\n",
    ")\n",
    "\n",
    "# Download test data from open datasets.\n",
    "test_data = datasets.FashionMNIST(\n",
    "    root=\"../data\",\n",
    "    train=False,\n",
    "    download=True,\n",
    "    transform=ToTensor(),\n",
    ")"
   ]
  },
  {
   "cell_type": "code",
   "execution_count": 3,
   "id": "c498531f",
   "metadata": {},
   "outputs": [
    {
     "name": "stdout",
     "output_type": "stream",
     "text": [
      "<class 'torchvision.datasets.mnist.FashionMNIST'>\n",
      "<class 'torchvision.datasets.mnist.FashionMNIST'>\n",
      "60000\n",
      "10000\n"
     ]
    }
   ],
   "source": [
    "# check the class of each dataset\n",
    "print(type(training_data))\n",
    "print(type(test_data))\n",
    "\n",
    "# check the size of each dataset\n",
    "print(len(training_data))\n",
    "print(len(test_data))"
   ]
  },
  {
   "cell_type": "code",
   "execution_count": 4,
   "id": "14b0a464",
   "metadata": {},
   "outputs": [
    {
     "data": {
      "text/plain": [
       "(tensor([[[0.0000, 0.0000, 0.0000, 0.0000, 0.0000, 0.0000, 0.0000, 0.0000,\n",
       "           0.0000, 0.0000, 0.0000, 0.0000, 0.0000, 0.0000, 0.0000, 0.0000,\n",
       "           0.0000, 0.0000, 0.0000, 0.0000, 0.0000, 0.0000, 0.0000, 0.0000,\n",
       "           0.0000, 0.0000, 0.0000, 0.0000],\n",
       "          [0.0000, 0.0000, 0.0000, 0.0000, 0.0000, 0.0000, 0.0000, 0.0000,\n",
       "           0.0000, 0.0000, 0.0000, 0.0000, 0.0000, 0.0000, 0.0000, 0.0000,\n",
       "           0.0000, 0.0000, 0.0000, 0.0000, 0.0000, 0.0000, 0.0000, 0.0000,\n",
       "           0.0000, 0.0000, 0.0000, 0.0000],\n",
       "          [0.0000, 0.0000, 0.0000, 0.0000, 0.0000, 0.0000, 0.0000, 0.0000,\n",
       "           0.0000, 0.0000, 0.0000, 0.0000, 0.0000, 0.0000, 0.0000, 0.0000,\n",
       "           0.0000, 0.0000, 0.0000, 0.0000, 0.0000, 0.0000, 0.0000, 0.0000,\n",
       "           0.0000, 0.0000, 0.0000, 0.0000],\n",
       "          [0.0000, 0.0000, 0.0000, 0.0000, 0.0000, 0.0000, 0.0000, 0.0000,\n",
       "           0.0000, 0.0000, 0.0000, 0.0000, 0.0039, 0.0000, 0.0000, 0.0510,\n",
       "           0.2863, 0.0000, 0.0000, 0.0039, 0.0157, 0.0000, 0.0000, 0.0000,\n",
       "           0.0000, 0.0039, 0.0039, 0.0000],\n",
       "          [0.0000, 0.0000, 0.0000, 0.0000, 0.0000, 0.0000, 0.0000, 0.0000,\n",
       "           0.0000, 0.0000, 0.0000, 0.0000, 0.0118, 0.0000, 0.1412, 0.5333,\n",
       "           0.4980, 0.2431, 0.2118, 0.0000, 0.0000, 0.0000, 0.0039, 0.0118,\n",
       "           0.0157, 0.0000, 0.0000, 0.0118],\n",
       "          [0.0000, 0.0000, 0.0000, 0.0000, 0.0000, 0.0000, 0.0000, 0.0000,\n",
       "           0.0000, 0.0000, 0.0000, 0.0000, 0.0235, 0.0000, 0.4000, 0.8000,\n",
       "           0.6902, 0.5255, 0.5647, 0.4824, 0.0902, 0.0000, 0.0000, 0.0000,\n",
       "           0.0000, 0.0471, 0.0392, 0.0000],\n",
       "          [0.0000, 0.0000, 0.0000, 0.0000, 0.0000, 0.0000, 0.0000, 0.0000,\n",
       "           0.0000, 0.0000, 0.0000, 0.0000, 0.0000, 0.0000, 0.6078, 0.9255,\n",
       "           0.8118, 0.6980, 0.4196, 0.6118, 0.6314, 0.4275, 0.2510, 0.0902,\n",
       "           0.3020, 0.5098, 0.2824, 0.0588],\n",
       "          [0.0000, 0.0000, 0.0000, 0.0000, 0.0000, 0.0000, 0.0000, 0.0000,\n",
       "           0.0000, 0.0000, 0.0000, 0.0039, 0.0000, 0.2706, 0.8118, 0.8745,\n",
       "           0.8549, 0.8471, 0.8471, 0.6392, 0.4980, 0.4745, 0.4784, 0.5725,\n",
       "           0.5529, 0.3451, 0.6745, 0.2588],\n",
       "          [0.0000, 0.0000, 0.0000, 0.0000, 0.0000, 0.0000, 0.0000, 0.0000,\n",
       "           0.0000, 0.0039, 0.0039, 0.0039, 0.0000, 0.7843, 0.9098, 0.9098,\n",
       "           0.9137, 0.8980, 0.8745, 0.8745, 0.8431, 0.8353, 0.6431, 0.4980,\n",
       "           0.4824, 0.7686, 0.8980, 0.0000],\n",
       "          [0.0000, 0.0000, 0.0000, 0.0000, 0.0000, 0.0000, 0.0000, 0.0000,\n",
       "           0.0000, 0.0000, 0.0000, 0.0000, 0.0000, 0.7176, 0.8824, 0.8471,\n",
       "           0.8745, 0.8941, 0.9216, 0.8902, 0.8784, 0.8706, 0.8784, 0.8667,\n",
       "           0.8745, 0.9608, 0.6784, 0.0000],\n",
       "          [0.0000, 0.0000, 0.0000, 0.0000, 0.0000, 0.0000, 0.0000, 0.0000,\n",
       "           0.0000, 0.0000, 0.0000, 0.0000, 0.0000, 0.7569, 0.8941, 0.8549,\n",
       "           0.8353, 0.7765, 0.7059, 0.8314, 0.8235, 0.8275, 0.8353, 0.8745,\n",
       "           0.8627, 0.9529, 0.7922, 0.0000],\n",
       "          [0.0000, 0.0000, 0.0000, 0.0000, 0.0000, 0.0000, 0.0000, 0.0000,\n",
       "           0.0000, 0.0039, 0.0118, 0.0000, 0.0471, 0.8588, 0.8627, 0.8314,\n",
       "           0.8549, 0.7529, 0.6627, 0.8902, 0.8157, 0.8549, 0.8784, 0.8314,\n",
       "           0.8863, 0.7725, 0.8196, 0.2039],\n",
       "          [0.0000, 0.0000, 0.0000, 0.0000, 0.0000, 0.0000, 0.0000, 0.0000,\n",
       "           0.0000, 0.0000, 0.0235, 0.0000, 0.3882, 0.9569, 0.8706, 0.8627,\n",
       "           0.8549, 0.7961, 0.7765, 0.8667, 0.8431, 0.8353, 0.8706, 0.8627,\n",
       "           0.9608, 0.4667, 0.6549, 0.2196],\n",
       "          [0.0000, 0.0000, 0.0000, 0.0000, 0.0000, 0.0000, 0.0000, 0.0000,\n",
       "           0.0000, 0.0157, 0.0000, 0.0000, 0.2157, 0.9255, 0.8941, 0.9020,\n",
       "           0.8941, 0.9412, 0.9098, 0.8353, 0.8549, 0.8745, 0.9176, 0.8510,\n",
       "           0.8510, 0.8196, 0.3608, 0.0000],\n",
       "          [0.0000, 0.0000, 0.0039, 0.0157, 0.0235, 0.0275, 0.0078, 0.0000,\n",
       "           0.0000, 0.0000, 0.0000, 0.0000, 0.9294, 0.8863, 0.8510, 0.8745,\n",
       "           0.8706, 0.8588, 0.8706, 0.8667, 0.8471, 0.8745, 0.8980, 0.8431,\n",
       "           0.8549, 1.0000, 0.3020, 0.0000],\n",
       "          [0.0000, 0.0118, 0.0000, 0.0000, 0.0000, 0.0000, 0.0000, 0.0000,\n",
       "           0.0000, 0.2431, 0.5686, 0.8000, 0.8941, 0.8118, 0.8353, 0.8667,\n",
       "           0.8549, 0.8157, 0.8275, 0.8549, 0.8784, 0.8745, 0.8588, 0.8431,\n",
       "           0.8784, 0.9569, 0.6235, 0.0000],\n",
       "          [0.0000, 0.0000, 0.0000, 0.0000, 0.0706, 0.1725, 0.3216, 0.4196,\n",
       "           0.7412, 0.8941, 0.8627, 0.8706, 0.8510, 0.8863, 0.7843, 0.8039,\n",
       "           0.8275, 0.9020, 0.8784, 0.9176, 0.6902, 0.7373, 0.9804, 0.9725,\n",
       "           0.9137, 0.9333, 0.8431, 0.0000],\n",
       "          [0.0000, 0.2235, 0.7333, 0.8157, 0.8784, 0.8667, 0.8784, 0.8157,\n",
       "           0.8000, 0.8392, 0.8157, 0.8196, 0.7843, 0.6235, 0.9608, 0.7569,\n",
       "           0.8078, 0.8745, 1.0000, 1.0000, 0.8667, 0.9176, 0.8667, 0.8275,\n",
       "           0.8627, 0.9098, 0.9647, 0.0000],\n",
       "          [0.0118, 0.7922, 0.8941, 0.8784, 0.8667, 0.8275, 0.8275, 0.8392,\n",
       "           0.8039, 0.8039, 0.8039, 0.8627, 0.9412, 0.3137, 0.5882, 1.0000,\n",
       "           0.8980, 0.8667, 0.7373, 0.6039, 0.7490, 0.8235, 0.8000, 0.8196,\n",
       "           0.8706, 0.8941, 0.8824, 0.0000],\n",
       "          [0.3843, 0.9137, 0.7765, 0.8235, 0.8706, 0.8980, 0.8980, 0.9176,\n",
       "           0.9765, 0.8627, 0.7608, 0.8431, 0.8510, 0.9451, 0.2549, 0.2863,\n",
       "           0.4157, 0.4588, 0.6588, 0.8588, 0.8667, 0.8431, 0.8510, 0.8745,\n",
       "           0.8745, 0.8784, 0.8980, 0.1137],\n",
       "          [0.2941, 0.8000, 0.8314, 0.8000, 0.7569, 0.8039, 0.8275, 0.8824,\n",
       "           0.8471, 0.7255, 0.7725, 0.8078, 0.7765, 0.8353, 0.9412, 0.7647,\n",
       "           0.8902, 0.9608, 0.9373, 0.8745, 0.8549, 0.8314, 0.8196, 0.8706,\n",
       "           0.8627, 0.8667, 0.9020, 0.2627],\n",
       "          [0.1882, 0.7961, 0.7176, 0.7608, 0.8353, 0.7725, 0.7255, 0.7451,\n",
       "           0.7608, 0.7529, 0.7922, 0.8392, 0.8588, 0.8667, 0.8627, 0.9255,\n",
       "           0.8824, 0.8471, 0.7804, 0.8078, 0.7294, 0.7098, 0.6941, 0.6745,\n",
       "           0.7098, 0.8039, 0.8078, 0.4510],\n",
       "          [0.0000, 0.4784, 0.8588, 0.7569, 0.7020, 0.6706, 0.7176, 0.7686,\n",
       "           0.8000, 0.8235, 0.8353, 0.8118, 0.8275, 0.8235, 0.7843, 0.7686,\n",
       "           0.7608, 0.7490, 0.7647, 0.7490, 0.7765, 0.7529, 0.6902, 0.6118,\n",
       "           0.6549, 0.6941, 0.8235, 0.3608],\n",
       "          [0.0000, 0.0000, 0.2902, 0.7412, 0.8314, 0.7490, 0.6863, 0.6745,\n",
       "           0.6863, 0.7098, 0.7255, 0.7373, 0.7412, 0.7373, 0.7569, 0.7765,\n",
       "           0.8000, 0.8196, 0.8235, 0.8235, 0.8275, 0.7373, 0.7373, 0.7608,\n",
       "           0.7529, 0.8471, 0.6667, 0.0000],\n",
       "          [0.0078, 0.0000, 0.0000, 0.0000, 0.2588, 0.7843, 0.8706, 0.9294,\n",
       "           0.9373, 0.9490, 0.9647, 0.9529, 0.9569, 0.8667, 0.8627, 0.7569,\n",
       "           0.7490, 0.7020, 0.7137, 0.7137, 0.7098, 0.6902, 0.6510, 0.6588,\n",
       "           0.3882, 0.2275, 0.0000, 0.0000],\n",
       "          [0.0000, 0.0000, 0.0000, 0.0000, 0.0000, 0.0000, 0.0000, 0.1569,\n",
       "           0.2392, 0.1725, 0.2824, 0.1608, 0.1373, 0.0000, 0.0000, 0.0000,\n",
       "           0.0000, 0.0000, 0.0000, 0.0000, 0.0000, 0.0000, 0.0000, 0.0000,\n",
       "           0.0000, 0.0000, 0.0000, 0.0000],\n",
       "          [0.0000, 0.0000, 0.0000, 0.0000, 0.0000, 0.0000, 0.0000, 0.0000,\n",
       "           0.0000, 0.0000, 0.0000, 0.0000, 0.0000, 0.0000, 0.0000, 0.0000,\n",
       "           0.0000, 0.0000, 0.0000, 0.0000, 0.0000, 0.0000, 0.0000, 0.0000,\n",
       "           0.0000, 0.0000, 0.0000, 0.0000],\n",
       "          [0.0000, 0.0000, 0.0000, 0.0000, 0.0000, 0.0000, 0.0000, 0.0000,\n",
       "           0.0000, 0.0000, 0.0000, 0.0000, 0.0000, 0.0000, 0.0000, 0.0000,\n",
       "           0.0000, 0.0000, 0.0000, 0.0000, 0.0000, 0.0000, 0.0000, 0.0000,\n",
       "           0.0000, 0.0000, 0.0000, 0.0000]]]),\n",
       " 9)"
      ]
     },
     "execution_count": 4,
     "metadata": {},
     "output_type": "execute_result"
    }
   ],
   "source": [
    "# If we see an image, it only shows a tensor, instead of the visualised image itself.\n",
    "training_data[0]"
   ]
  },
  {
   "cell_type": "code",
   "execution_count": 5,
   "id": "dbfac6ea",
   "metadata": {},
   "outputs": [
    {
     "name": "stdout",
     "output_type": "stream",
     "text": [
      "<class 'torch.Tensor'>\n",
      "torch.Size([1, 28, 28])\n"
     ]
    }
   ],
   "source": [
    "# check the class of a image (it is nested in tuple, where the first component is torch.Tensor and the other is label number.)\n",
    "print(type(training_data[0][0]))\n",
    "\n",
    "# check the size of a image (you can confirm that it is 28*28 black-white image)\n",
    "print(training_data[0][0].shape)"
   ]
  },
  {
   "cell_type": "code",
   "execution_count": 20,
   "id": "5f6a2172",
   "metadata": {},
   "outputs": [
    {
     "data": {
      "text/plain": [
       "<matplotlib.image.AxesImage at 0x7f82f0095550>"
      ]
     },
     "execution_count": 20,
     "metadata": {},
     "output_type": "execute_result"
    },
    {
     "data": {
      "image/png": "[encoded data removed]",
      "text/plain": [
       "<Figure size 640x480 with 1 Axes>"
      ]
     },
     "metadata": {},
     "output_type": "display_data"
    }
   ],
   "source": [
    "# let's visualise the image\n",
    "plt.imshow(training_data[0][0].squeeze(), cmap=\"gray\")"
   ]
  },
  {
   "cell_type": "code",
   "execution_count": 7,
   "id": "2343b37e",
   "metadata": {},
   "outputs": [
    {
     "name": "stdout",
     "output_type": "stream",
     "text": [
      "['T-shirt/top', 'Trouser', 'Pullover', 'Dress', 'Coat', 'Sandal', 'Shirt', 'Sneaker', 'Bag', 'Ankle boot']\n"
     ]
    }
   ],
   "source": [
    "# the category of this dataset is stored in an attribute \"classes\".\n",
    "print(training_data.classes)"
   ]
  },
  {
   "cell_type": "code",
   "execution_count": 21,
   "id": "fd5f09a9",
   "metadata": {},
   "outputs": [
    {
     "name": "stdout",
     "output_type": "stream",
     "text": [
      "Coat\n"
     ]
    }
   ],
   "source": [
    "# let's see the category of the first image.\n",
    "print(training_data.classes[training_data[0][1]])"
   ]
  },
  {
   "cell_type": "markdown",
   "id": "f47fb6d3",
   "metadata": {},
   "source": [
    "**torch.utils.data.DataLoader** is a class which can deal with **torch.utils.data.Dataset**, so that we can train and validate the model efficiently (we only have to put the number od batch size, then PyTorch will process the data splitting automatically)."
   ]
  },
  {
   "cell_type": "code",
   "execution_count": 9,
   "id": "d95371c0",
   "metadata": {},
   "outputs": [
    {
     "name": "stdout",
     "output_type": "stream",
     "text": [
      "Shape of X [N, C, H, W]: torch.Size([64, 1, 28, 28])\n",
      "Shape of y: torch.Size([64]) torch.int64\n"
     ]
    }
   ],
   "source": [
    "# create data loaders\n",
    "batch_size = 64\n",
    "\n",
    "train_dataloader = DataLoader(training_data, batch_size=batch_size)\n",
    "test_dataloader = DataLoader(test_data, batch_size=batch_size)\n",
    "\n",
    "for X, y in test_dataloader:\n",
    "    print(f\"Shape of X [N, C, H, W]: {X.shape}\")\n",
    "    print(f\"Shape of y: {y.shape} {y.dtype}\")\n",
    "    break"
   ]
  },
  {
   "cell_type": "markdown",
   "id": "341a1a3f",
   "metadata": {},
   "source": [
    "Please note that if you want to create your own **torch.utils.data.Dataset**, you need to specify __init__, __len__, and __getitem__. (These are used in a model afterwards)"
   ]
  },
  {
   "cell_type": "markdown",
   "id": "074bee92",
   "metadata": {},
   "source": [
    "### Create a model"
   ]
  },
  {
   "cell_type": "markdown",
   "id": "8eb9e05f",
   "metadata": {},
   "source": [
    "Now it's time to build a model!"
   ]
  },
  {
   "cell_type": "code",
   "execution_count": 10,
   "id": "9249ddc3",
   "metadata": {},
   "outputs": [
    {
     "name": "stdout",
     "output_type": "stream",
     "text": [
      "cpu\n"
     ]
    }
   ],
   "source": [
    "# Get cpu or gpu device for training. If you don't use NVIDIA's GPU, CPU will be automatically chosen.\n",
    "device = \"cuda\" if torch.cuda.is_available() else \"cpu\"\n",
    "\n",
    "print(device)"
   ]
  },
  {
   "cell_type": "code",
   "execution_count": 11,
   "id": "705ffe90",
   "metadata": {},
   "outputs": [],
   "source": [
    "class OurOwnFirstNetwork(nn.Module):\n",
    "    def __init__(self):\n",
    "        # inherit the class of nn.Module (this is a convention of pytorch)\n",
    "        super().__init__()\n",
    "        \n",
    "        # flatten is to make a tensor into one single vector (ex. 1*28*28 -> 784)\n",
    "        self.flatten = nn.Flatten()\n",
    "        \n",
    "        # build a three-layer neural network with activation of ReLU.\n",
    "        self.linear_relu_stack = nn.Sequential(\n",
    "            nn.Linear(28*28, 512),\n",
    "            nn.ReLU(),\n",
    "            nn.Linear(512, 512),\n",
    "            nn.ReLU(),\n",
    "            nn.Linear(512, 10)\n",
    "        )\n",
    "        \n",
    "    # this method \"forward\" will be used when the model excutes forward propagation.\n",
    "    # you can imagine that \"x\" is a single image.\n",
    "    def forward(self, x):\n",
    "        x = self.flatten(x)\n",
    "        logits = self.linear_relu_stack(x)\n",
    "        return logits"
   ]
  },
  {
   "cell_type": "code",
   "execution_count": 12,
   "id": "a46e6bef",
   "metadata": {},
   "outputs": [
    {
     "name": "stdout",
     "output_type": "stream",
     "text": [
      "OurOwnFirstNetwork(\n",
      "  (flatten): Flatten(start_dim=1, end_dim=-1)\n",
      "  (linear_relu_stack): Sequential(\n",
      "    (0): Linear(in_features=784, out_features=512, bias=True)\n",
      "    (1): ReLU()\n",
      "    (2): Linear(in_features=512, out_features=512, bias=True)\n",
      "    (3): ReLU()\n",
      "    (4): Linear(in_features=512, out_features=10, bias=True)\n",
      "  )\n",
      ")\n"
     ]
    }
   ],
   "source": [
    "# let's create an instance from our class.\n",
    "our_model = OurOwnFirstNetwork().to(device)\n",
    "print(our_model)"
   ]
  },
  {
   "cell_type": "code",
   "execution_count": 13,
   "id": "fe03bba8",
   "metadata": {},
   "outputs": [],
   "source": [
    "# we need to specify the loss function of this model, as well as the method of its optimisation.\n",
    "# in this case, we are going to use cross entropy loss with SGD.\n",
    "\n",
    "loss_fn = nn.CrossEntropyLoss()\n",
    "optimizer = torch.optim.SGD(our_model.parameters(), lr=1e-3)"
   ]
  },
  {
   "cell_type": "markdown",
   "id": "a2d69e6e",
   "metadata": {},
   "source": [
    "### Train the model"
   ]
  },
  {
   "cell_type": "markdown",
   "id": "feca787a",
   "metadata": {},
   "source": [
    "Now let's train the model! To do so, we need to make some new functions out of our class definition."
   ]
  },
  {
   "cell_type": "code",
   "execution_count": 14,
   "id": "a02cc992",
   "metadata": {},
   "outputs": [],
   "source": [
    "def train_our_model(dataloader, model, loss_fn, optimizer):\n",
    "    \n",
    "    #  the total size of this dataloader (in this case we will inspect the one for training)\n",
    "    size = len(dataloader.dataset)\n",
    "    \n",
    "    # use the method of \"train\" from our created instance (it is hard to understand because it is from nn.Module)\n",
    "    model.train()\n",
    "    \n",
    "    # for each of batch\n",
    "    for batch, (X, y) in enumerate(dataloader):\n",
    "        # whether we use CUDA or not\n",
    "        X, y = X.to(device), y.to(device)\n",
    "        \n",
    "        # If we put \"X\" into our instance, pytorch will process the forward propergation.\n",
    "        pred = model(X)\n",
    "        \n",
    "        # based on the prediction, we need to calculate the loss function\n",
    "        loss = loss_fn(pred, y)\n",
    "\n",
    "        # now it's time to do back propagation! Firstly, we need to reset the gradient in advance (this happens in every loop).\n",
    "        optimizer.zero_grad()\n",
    "        \n",
    "        # do the back propagation! In this method of \"backward\" from nn.Module, pytorch is calculating the gradient.\n",
    "        loss.backward()\n",
    "        \n",
    "        # based on the calculated gradient for each neuron, we can take a step of optimisation.\n",
    "        optimizer.step()\n",
    "        \n",
    "        # this is for convenience of seeing the progress of training (only showing every 100 batches)\n",
    "        if batch % 100 == 0:\n",
    "            loss, current = loss.item(), batch * len(X)\n",
    "            print(f\"loss: {loss:>7f}  [{current:>5d}/{size:>5d}]\")   "
   ]
  },
  {
   "cell_type": "markdown",
   "id": "50a76676",
   "metadata": {},
   "source": [
    "As well as the train function, we need to create a function for test."
   ]
  },
  {
   "cell_type": "code",
   "execution_count": 15,
   "id": "3ea90cf0",
   "metadata": {},
   "outputs": [],
   "source": [
    "def test_our_model(dataloader, model, loss_fn):\n",
    "    \n",
    "    # get the total size of this dataloader (in this case we will inspect the one for testing)\n",
    "    size = len(dataloader.dataset)\n",
    "    \n",
    "    # the length of dataloader is the number of batches, so we will get it\n",
    "    # the reason why we did'nt do this in the train function is we wanted to see the progress of training using the enumeration.\n",
    "    num_batches = len(dataloader)\n",
    "\n",
    "    # use the method of eval from our instance (this method comes originally from nn.Module)\n",
    "    model.eval()\n",
    "    \n",
    "    # initialise the loss and correct prediction number as 0\n",
    "    test_loss, correct = 0, 0\n",
    "    \n",
    "    # disable the gradient calculation, since we won't do back propagation\n",
    "    with torch.no_grad():\n",
    "        for X, y in dataloader:\n",
    "            \n",
    "            # use CUDA if available\n",
    "            X, y = X.to(device), y.to(device)\n",
    "\n",
    "            # put the \"X\" into our trained model\n",
    "            pred = model(X)\n",
    "            \n",
    "            # pile the loss from each batch\n",
    "            test_loss += loss_fn(pred, y).item()\n",
    "            \n",
    "            # from the logit, we will take argmax to explicitly predict a label for each image.\n",
    "            # it the prediction from argmax is correct, we will add it to \"correct\"\n",
    "            correct += (pred.argmax(1) == y).type(torch.float).sum().item()\n",
    "        \n",
    "        # average out the test loss after all the testing is finished.\n",
    "        test_loss /= num_batches\n",
    "        \n",
    "        # average out the \"correct\" after all the testing is finished.\n",
    "        correct /= size\n",
    "\n",
    "        # show the result\n",
    "        print(f\"Test Error: \\n Accuracy: {(100*correct):>0.1f}%, Avg loss: {test_loss:>8f} \\n\")"
   ]
  },
  {
   "cell_type": "code",
   "execution_count": 16,
   "id": "2cd59b79",
   "metadata": {},
   "outputs": [
    {
     "name": "stdout",
     "output_type": "stream",
     "text": [
      "Epoch 1\n",
      "-------------------------------\n",
      "loss: 2.305804  [    0/60000]\n",
      "loss: 2.290419  [ 6400/60000]\n",
      "loss: 2.277578  [12800/60000]\n",
      "loss: 2.274362  [19200/60000]\n",
      "loss: 2.254799  [25600/60000]\n",
      "loss: 2.233813  [32000/60000]\n",
      "loss: 2.232197  [38400/60000]\n",
      "loss: 2.208999  [44800/60000]\n",
      "loss: 2.199719  [51200/60000]\n",
      "loss: 2.179492  [57600/60000]\n",
      "Test Error: \n",
      " Accuracy: 49.7%, Avg loss: 2.169364 \n",
      "\n",
      "Epoch 2\n",
      "-------------------------------\n",
      "loss: 2.172896  [    0/60000]\n",
      "loss: 2.166924  [ 6400/60000]\n",
      "loss: 2.117221  [12800/60000]\n",
      "loss: 2.139504  [19200/60000]\n",
      "loss: 2.100432  [25600/60000]\n",
      "loss: 2.031985  [32000/60000]\n",
      "loss: 2.060431  [38400/60000]\n",
      "loss: 1.989859  [44800/60000]\n",
      "loss: 1.984090  [51200/60000]\n",
      "loss: 1.932695  [57600/60000]\n",
      "Test Error: \n",
      " Accuracy: 56.9%, Avg loss: 1.926222 \n",
      "\n",
      "Epoch 3\n",
      "-------------------------------\n",
      "loss: 1.943894  [    0/60000]\n",
      "loss: 1.926046  [ 6400/60000]\n",
      "loss: 1.819224  [12800/60000]\n",
      "loss: 1.867050  [19200/60000]\n",
      "loss: 1.771091  [25600/60000]\n",
      "loss: 1.696237  [32000/60000]\n",
      "loss: 1.722495  [38400/60000]\n",
      "loss: 1.625000  [44800/60000]\n",
      "loss: 1.640464  [51200/60000]\n",
      "loss: 1.541238  [57600/60000]\n",
      "Test Error: \n",
      " Accuracy: 61.9%, Avg loss: 1.560194 \n",
      "\n",
      "Epoch 4\n",
      "-------------------------------\n",
      "loss: 1.612693  [    0/60000]\n",
      "loss: 1.585693  [ 6400/60000]\n",
      "loss: 1.441978  [12800/60000]\n",
      "loss: 1.518746  [19200/60000]\n",
      "loss: 1.404372  [25600/60000]\n",
      "loss: 1.373077  [32000/60000]\n",
      "loss: 1.387032  [38400/60000]\n",
      "loss: 1.312925  [44800/60000]\n",
      "loss: 1.342926  [51200/60000]\n",
      "loss: 1.238515  [57600/60000]\n",
      "Test Error: \n",
      " Accuracy: 64.5%, Avg loss: 1.272055 \n",
      "\n",
      "Epoch 5\n",
      "-------------------------------\n",
      "loss: 1.342825  [    0/60000]\n",
      "loss: 1.327653  [ 6400/60000]\n",
      "loss: 1.165827  [12800/60000]\n",
      "loss: 1.275907  [19200/60000]\n",
      "loss: 1.156582  [25600/60000]\n",
      "loss: 1.159824  [32000/60000]\n",
      "loss: 1.176961  [38400/60000]\n",
      "loss: 1.117437  [44800/60000]\n",
      "loss: 1.151881  [51200/60000]\n",
      "loss: 1.062490  [57600/60000]\n",
      "Test Error: \n",
      " Accuracy: 65.4%, Avg loss: 1.092379 \n",
      "\n",
      "Done!\n"
     ]
    }
   ],
   "source": [
    "# set the number of epoch (how many times we will use the whole training dataset)\n",
    "epochs = 5\n",
    "\n",
    "# for each of the epoch, we will do train & test.\n",
    "for t in range(epochs):\n",
    "    print(f\"Epoch {t+1}\\n-------------------------------\")\n",
    "    \n",
    "    # do the train!\n",
    "    train_our_model(train_dataloader, our_model, loss_fn, optimizer)\n",
    "    \n",
    "    # do the test!\n",
    "    test_our_model(test_dataloader, our_model, loss_fn)\n",
    "    \n",
    "print(\"Done!\")"
   ]
  },
  {
   "cell_type": "markdown",
   "id": "a613b839",
   "metadata": {},
   "source": [
    "### Predict image labels"
   ]
  },
  {
   "cell_type": "markdown",
   "id": "46bc7ec9",
   "metadata": {},
   "source": [
    "Now the model is trained! Let's see how it works."
   ]
  },
  {
   "cell_type": "code",
   "execution_count": 24,
   "id": "d03c2a40",
   "metadata": {},
   "outputs": [
    {
     "data": {
      "text/plain": [
       "<matplotlib.image.AxesImage at 0x7f8334f9cb10>"
      ]
     },
     "execution_count": 24,
     "metadata": {},
     "output_type": "execute_result"
    },
    {
     "data": {
      "image/png": "[encoded data removed]",
      "text/plain": [
       "<Figure size 640x480 with 1 Axes>"
      ]
     },
     "metadata": {},
     "output_type": "display_data"
    }
   ],
   "source": [
    "plt.imshow(test_data[0][0].squeeze(), cmap=\"gray\")"
   ]
  },
  {
   "cell_type": "code",
   "execution_count": 25,
   "id": "8703d12d",
   "metadata": {},
   "outputs": [
    {
     "name": "stdout",
     "output_type": "stream",
     "text": [
      "tensor([[ 1.5635,  2.3077, -0.0655,  2.5371,  0.3295, -1.5189,  0.6700, -2.0918,\n",
      "         -1.3135, -1.7355]], grad_fn=<AddmmBackward0>)\n",
      "3\n",
      "Dress\n"
     ]
    }
   ],
   "source": [
    "# get the predicted outcome\n",
    "predicted_outcome = our_model(test_data[0][0])\n",
    "print(predicted_outcome)\n",
    "\n",
    "# get the id\n",
    "predicted_id = int(predicted_outcome.argmax())\n",
    "print(predicted_id)\n",
    "\n",
    "# get the label\n",
    "predicted_label = test_data.classes[predicted_id]\n",
    "print(predicted_label)"
   ]
  },
  {
   "cell_type": "markdown",
   "id": "a1668b6a",
   "metadata": {},
   "source": [
    "### Save the model"
   ]
  },
  {
   "cell_type": "markdown",
   "id": "6b745dd4",
   "metadata": {},
   "source": [
    "When we will use the model with its trained parameters, we can save it as \"pth\"."
   ]
  },
  {
   "cell_type": "code",
   "execution_count": 19,
   "id": "ca6d47ef",
   "metadata": {},
   "outputs": [
    {
     "name": "stdout",
     "output_type": "stream",
     "text": [
      "Saved PyTorch Model State to model.pth\n"
     ]
    }
   ],
   "source": [
    "torch.save(our_model.state_dict(), \"../data/model.pth\")\n",
    "print(\"Saved PyTorch Model State to model.pth\")"
   ]
  }
 ],
 "metadata": {
  "kernelspec": {
   "display_name": "Python 3 (ipykernel)",
   "language": "python",
   "name": "python3"
  },
  "language_info": {
   "codemirror_mode": {
    "name": "ipython",
    "version": 3
   },
   "file_extension": ".py",
   "mimetype": "text/x-python",
   "name": "python",
   "nbconvert_exporter": "python",
   "pygments_lexer": "ipython3",
   "version": "3.7.13"
  }
 },
 "nbformat": 4,
 "nbformat_minor": 5
}
